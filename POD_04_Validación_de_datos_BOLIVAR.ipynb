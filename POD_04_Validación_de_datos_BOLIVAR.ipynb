{
  "nbformat": 4,
  "nbformat_minor": 0,
  "metadata": {
    "colab": {
      "provenance": []
    },
    "kernelspec": {
      "name": "python3",
      "display_name": "Python 3"
    },
    "language_info": {
      "name": "python"
    }
  },
  "cells": [
    {
      "cell_type": "markdown",
      "source": [
        "*   **Año:** [2024]\n",
        "*   **Alumno/a:** [BOLIVAR, Agustin]\n",
        "*   **Legajo:** [45822853]"
      ],
      "metadata": {
        "id": "UwxQU5JCF33j"
      }
    },
    {
      "cell_type": "markdown",
      "source": [
        "# Pydantic\n",
        "Pydantic es una libreria rapida y extensible que nos permite validar datos usando tipos de datos de Python.\n"
      ],
      "metadata": {
        "id": "8ec8DQdbWQfC"
      }
    },
    {
      "cell_type": "markdown",
      "source": [
        "Primero, importe `pydantic`."
      ],
      "metadata": {
        "id": "uF01w4AQcrtV"
      }
    },
    {
      "cell_type": "code",
      "source": [
        "import pydantic as pyd"
      ],
      "metadata": {
        "id": "4WPUcwU_c5n2"
      },
      "execution_count": null,
      "outputs": []
    },
    {
      "cell_type": "markdown",
      "source": [
        "Supongamos que tenemos una lista de clientes (llamemoslo en el codigo `Client`). Los clientes tienen dos campos: DNI (un entero) y nacionalidad (un `string`). Cree el modelo base de `Client` (en forma de clases de Python)."
      ],
      "metadata": {
        "id": "eC8fpbQ04GzX"
      }
    },
    {
      "cell_type": "code",
      "source": [
        "from pydantic import BaseModel, StrictInt, ValidationError, validator\n",
        "from datetime import date\n",
        "\n",
        "class Client(BaseModel):\n",
        "    dni: StrictInt\n",
        "    nacionalidad: str"
      ],
      "metadata": {
        "id": "I4zJ7s_k4GkI",
        "collapsed": true
      },
      "execution_count": null,
      "outputs": []
    },
    {
      "cell_type": "markdown",
      "source": [
        "Cree a un usuario con documento 39.755.010 y nacionalidad 'Argentina'. Muestre\n",
        "todos sus campos."
      ],
      "metadata": {
        "id": "zas-XX4r4SeP"
      }
    },
    {
      "cell_type": "code",
      "source": [
        "cliente = Client(dni=45_333_111, nacionalidad=\"Argentina\")\n",
        "cliente"
      ],
      "metadata": {
        "id": "_DhtCWhr4ST9",
        "colab": {
          "base_uri": "https://localhost:8080/"
        },
        "outputId": "8fbd396a-497b-4c07-c6f0-0bc9fb99b3f7",
        "collapsed": true
      },
      "execution_count": null,
      "outputs": [
        {
          "output_type": "execute_result",
          "data": {
            "text/plain": [
              "Client(dni=45333111, nacionalidad='Argentina')"
            ]
          },
          "metadata": {},
          "execution_count": 17
        }
      ]
    },
    {
      "cell_type": "markdown",
      "source": [
        "Intente crear al usuario con un documento en forma de `string`. Deberia fallar..."
      ],
      "metadata": {
        "id": "ejbn5RSH4S_W"
      }
    },
    {
      "cell_type": "code",
      "source": [
        "cliente2 = Client(dni=\"45_333_111\", nacionalidad=\"Argentina\")\n",
        "cliente2"
      ],
      "metadata": {
        "id": "OMPq8C1C4Su3",
        "colab": {
          "base_uri": "https://localhost:8080/",
          "height": 332
        },
        "outputId": "166baeb1-d207-4544-944f-3e0aaa72fa2f",
        "collapsed": true
      },
      "execution_count": null,
      "outputs": [
        {
          "output_type": "error",
          "ename": "ValidationError",
          "evalue": "1 validation error for Client\ndni\n  Input should be a valid integer [type=int_type, input_value='45_333_111', input_type=str]\n    For further information visit https://errors.pydantic.dev/2.9/v/int_type",
          "traceback": [
            "\u001b[0;31m---------------------------------------------------------------------------\u001b[0m",
            "\u001b[0;31mValidationError\u001b[0m                           Traceback (most recent call last)",
            "\u001b[0;32m<ipython-input-18-67979073d145>\u001b[0m in \u001b[0;36m<cell line: 1>\u001b[0;34m()\u001b[0m\n\u001b[0;32m----> 1\u001b[0;31m \u001b[0mcliente2\u001b[0m \u001b[0;34m=\u001b[0m \u001b[0mClient\u001b[0m\u001b[0;34m(\u001b[0m\u001b[0mdni\u001b[0m\u001b[0;34m=\u001b[0m\u001b[0;34m\"45_333_111\"\u001b[0m\u001b[0;34m,\u001b[0m \u001b[0mnacionalidad\u001b[0m\u001b[0;34m=\u001b[0m\u001b[0;34m\"Argentina\"\u001b[0m\u001b[0;34m)\u001b[0m\u001b[0;34m\u001b[0m\u001b[0;34m\u001b[0m\u001b[0m\n\u001b[0m\u001b[1;32m      2\u001b[0m \u001b[0mcliente2\u001b[0m\u001b[0;34m\u001b[0m\u001b[0;34m\u001b[0m\u001b[0m\n",
            "\u001b[0;32m/usr/local/lib/python3.10/dist-packages/pydantic/main.py\u001b[0m in \u001b[0;36m__init__\u001b[0;34m(self, **data)\u001b[0m\n\u001b[1;32m    210\u001b[0m         \u001b[0;31m# `__tracebackhide__` tells pytest and some other tools to omit this function from tracebacks\u001b[0m\u001b[0;34m\u001b[0m\u001b[0;34m\u001b[0m\u001b[0m\n\u001b[1;32m    211\u001b[0m         \u001b[0m__tracebackhide__\u001b[0m \u001b[0;34m=\u001b[0m \u001b[0;32mTrue\u001b[0m\u001b[0;34m\u001b[0m\u001b[0;34m\u001b[0m\u001b[0m\n\u001b[0;32m--> 212\u001b[0;31m         \u001b[0mvalidated_self\u001b[0m \u001b[0;34m=\u001b[0m \u001b[0mself\u001b[0m\u001b[0;34m.\u001b[0m\u001b[0m__pydantic_validator__\u001b[0m\u001b[0;34m.\u001b[0m\u001b[0mvalidate_python\u001b[0m\u001b[0;34m(\u001b[0m\u001b[0mdata\u001b[0m\u001b[0;34m,\u001b[0m \u001b[0mself_instance\u001b[0m\u001b[0;34m=\u001b[0m\u001b[0mself\u001b[0m\u001b[0;34m)\u001b[0m\u001b[0;34m\u001b[0m\u001b[0;34m\u001b[0m\u001b[0m\n\u001b[0m\u001b[1;32m    213\u001b[0m         \u001b[0;32mif\u001b[0m \u001b[0mself\u001b[0m \u001b[0;32mis\u001b[0m \u001b[0;32mnot\u001b[0m \u001b[0mvalidated_self\u001b[0m\u001b[0;34m:\u001b[0m\u001b[0;34m\u001b[0m\u001b[0;34m\u001b[0m\u001b[0m\n\u001b[1;32m    214\u001b[0m             warnings.warn(\n",
            "\u001b[0;31mValidationError\u001b[0m: 1 validation error for Client\ndni\n  Input should be a valid integer [type=int_type, input_value='45_333_111', input_type=str]\n    For further information visit https://errors.pydantic.dev/2.9/v/int_type"
          ]
        }
      ]
    },
    {
      "cell_type": "markdown",
      "source": [
        "Hemos detectado que ciertos clientes tienen nacionalidades que no existen. Ademas, hay numeros de documento negativos y se tiene que poder agregar la fecha de registro de los clientes (que no pueden ser del futuro). Cambiar la definicion del cliente para que estas cosas no ocurran. Despues de la siguiente celda, cree otras 3 mas probando un caso donde deberia funcionar y otros dos en los que no."
      ],
      "metadata": {
        "id": "jARZRMfe6MPE"
      }
    },
    {
      "cell_type": "code",
      "source": [
        "class Client2(BaseModel):\n",
        "    dni: StrictInt\n",
        "    nacionalidad: str\n",
        "    registro: date\n",
        "\n",
        "    @validator(\"dni\")\n",
        "    def validar_dni(cls,value):\n",
        "        if value < 0:\n",
        "          raise ValueError(f\"dni '{value}' no es válido. Debe ser mayor a 0.\")\n",
        "        return value\n",
        "\n",
        "    @validator(\"nacionalidad\")\n",
        "    def validar_nacionalidad(cls, value):\n",
        "        # Lista de nacionalidades válidas\n",
        "        nacionalidades_validas = [\"Argentina\", \"Brasil\", \"Chile\", \"Uruguay\", \"Paraguay\"]\n",
        "        if value not in nacionalidades_validas:\n",
        "            raise ValueError(f\"Nacionalidad '{value}' no es válida. Debe estar en {nacionalidades_validas}.\")\n",
        "        return value\n",
        "\n",
        "    @validator(\"registro\")\n",
        "    def validar_fecha_registro(cls, value):\n",
        "        if value > date.today():\n",
        "            raise ValueError(\"La fecha de registro no puede ser en el futuro.\")\n",
        "        return value"
      ],
      "metadata": {
        "colab": {
          "base_uri": "https://localhost:8080/"
        },
        "collapsed": true,
        "id": "gSvb-vf_VDJu",
        "outputId": "5f3a5c72-bd5e-450c-d0ab-bdb14e8e2328"
      },
      "execution_count": null,
      "outputs": [
        {
          "output_type": "stream",
          "name": "stderr",
          "text": [
            "<ipython-input-19-facf60d059df>:6: PydanticDeprecatedSince20: Pydantic V1 style `@validator` validators are deprecated. You should migrate to Pydantic V2 style `@field_validator` validators, see the migration guide for more details. Deprecated in Pydantic V2.0 to be removed in V3.0. See Pydantic V2 Migration Guide at https://errors.pydantic.dev/2.9/migration/\n",
            "  @validator(\"dni\")\n",
            "<ipython-input-19-facf60d059df>:12: PydanticDeprecatedSince20: Pydantic V1 style `@validator` validators are deprecated. You should migrate to Pydantic V2 style `@field_validator` validators, see the migration guide for more details. Deprecated in Pydantic V2.0 to be removed in V3.0. See Pydantic V2 Migration Guide at https://errors.pydantic.dev/2.9/migration/\n",
            "  @validator(\"nacionalidad\")\n",
            "<ipython-input-19-facf60d059df>:20: PydanticDeprecatedSince20: Pydantic V1 style `@validator` validators are deprecated. You should migrate to Pydantic V2 style `@field_validator` validators, see the migration guide for more details. Deprecated in Pydantic V2.0 to be removed in V3.0. See Pydantic V2 Migration Guide at https://errors.pydantic.dev/2.9/migration/\n",
            "  @validator(\"registro\")\n"
          ]
        }
      ]
    },
    {
      "cell_type": "code",
      "source": [
        "cliente3 = Client2(dni=39755010, nacionalidad=\"Argentina\", registro=date(2024, 11, 19))"
      ],
      "metadata": {
        "id": "JWsWZZPH6NFv",
        "colab": {
          "base_uri": "https://localhost:8080/"
        },
        "outputId": "4a5eb6af-1540-468b-abd8-5397e1ac28aa"
      },
      "execution_count": null,
      "outputs": [
        {
          "output_type": "execute_result",
          "data": {
            "text/plain": [
              "Client2(dni=39755010, nacionalidad='Argentina', registro=datetime.date(2024, 11, 19))"
            ]
          },
          "metadata": {},
          "execution_count": 22
        }
      ]
    },
    {
      "cell_type": "code",
      "source": [
        "cliente4 = Client2(dni=39755010, nacionalidad=\"Argentina\", registro=date(2024, 11, 19))"
      ],
      "metadata": {
        "id": "sWyLaqoC7QUK"
      },
      "execution_count": null,
      "outputs": []
    },
    {
      "cell_type": "code",
      "source": [
        "cliente5 = Client2(dni=39755010, nacionalidad=\"Argentina\", registro=date(2024, 11, 19))"
      ],
      "metadata": {
        "id": "E6h_7zb77QhN"
      },
      "execution_count": null,
      "outputs": []
    },
    {
      "cell_type": "code",
      "source": [
        "cliente6 = Client2(dni=-39755010, nacionalidad=\"Argentina\", registro=date(2024, 1, 1)) # error de dni negativo\n",
        "#cliente7 = Client2(dni=39755010, nacionalidad=\"Turquia\", registro=date(2024, 1, 1)) #error de nacionalidad\n",
        "#cliente8 = Client2(dni=39755010, nacionalidad=\"Argentina\", registro=date(2025, 1, 1)) #error de fecha"
      ],
      "metadata": {
        "id": "MtDGMxri7R_O",
        "collapsed": true,
        "colab": {
          "base_uri": "https://localhost:8080/",
          "height": 349
        },
        "outputId": "53a69155-e9c6-4706-b88b-20fa6899c56f"
      },
      "execution_count": null,
      "outputs": [
        {
          "output_type": "error",
          "ename": "ValidationError",
          "evalue": "1 validation error for Client2\ndni\n  Value error, dni '-39755010' no es válido. Debe ser mayor a 0. [type=value_error, input_value=-39755010, input_type=int]\n    For further information visit https://errors.pydantic.dev/2.9/v/value_error",
          "traceback": [
            "\u001b[0;31m---------------------------------------------------------------------------\u001b[0m",
            "\u001b[0;31mValidationError\u001b[0m                           Traceback (most recent call last)",
            "\u001b[0;32m<ipython-input-31-2691e803b8b3>\u001b[0m in \u001b[0;36m<cell line: 1>\u001b[0;34m()\u001b[0m\n\u001b[0;32m----> 1\u001b[0;31m \u001b[0mcliente6\u001b[0m \u001b[0;34m=\u001b[0m \u001b[0mClient2\u001b[0m\u001b[0;34m(\u001b[0m\u001b[0mdni\u001b[0m\u001b[0;34m=\u001b[0m\u001b[0;34m-\u001b[0m\u001b[0;36m39755010\u001b[0m\u001b[0;34m,\u001b[0m \u001b[0mnacionalidad\u001b[0m\u001b[0;34m=\u001b[0m\u001b[0;34m\"Argentina\"\u001b[0m\u001b[0;34m,\u001b[0m \u001b[0mregistro\u001b[0m\u001b[0;34m=\u001b[0m\u001b[0mdate\u001b[0m\u001b[0;34m(\u001b[0m\u001b[0;36m2024\u001b[0m\u001b[0;34m,\u001b[0m \u001b[0;36m1\u001b[0m\u001b[0;34m,\u001b[0m \u001b[0;36m1\u001b[0m\u001b[0;34m)\u001b[0m\u001b[0;34m)\u001b[0m\u001b[0;34m\u001b[0m\u001b[0;34m\u001b[0m\u001b[0m\n\u001b[0m\u001b[1;32m      2\u001b[0m \u001b[0mcliente7\u001b[0m \u001b[0;34m=\u001b[0m \u001b[0mClient2\u001b[0m\u001b[0;34m(\u001b[0m\u001b[0mdni\u001b[0m\u001b[0;34m=\u001b[0m\u001b[0;36m39755010\u001b[0m\u001b[0;34m,\u001b[0m \u001b[0mnacionalidad\u001b[0m\u001b[0;34m=\u001b[0m\u001b[0;34m\"Turquia\"\u001b[0m\u001b[0;34m,\u001b[0m \u001b[0mregistro\u001b[0m\u001b[0;34m=\u001b[0m\u001b[0mdate\u001b[0m\u001b[0;34m(\u001b[0m\u001b[0;36m2024\u001b[0m\u001b[0;34m,\u001b[0m \u001b[0;36m1\u001b[0m\u001b[0;34m,\u001b[0m \u001b[0;36m1\u001b[0m\u001b[0;34m)\u001b[0m\u001b[0;34m)\u001b[0m\u001b[0;34m\u001b[0m\u001b[0;34m\u001b[0m\u001b[0m\n\u001b[1;32m      3\u001b[0m \u001b[0mcliente8\u001b[0m \u001b[0;34m=\u001b[0m \u001b[0mClient2\u001b[0m\u001b[0;34m(\u001b[0m\u001b[0mdni\u001b[0m\u001b[0;34m=\u001b[0m\u001b[0;36m39755010\u001b[0m\u001b[0;34m,\u001b[0m \u001b[0mnacionalidad\u001b[0m\u001b[0;34m=\u001b[0m\u001b[0;34m\"Argentina\"\u001b[0m\u001b[0;34m,\u001b[0m \u001b[0mregistro\u001b[0m\u001b[0;34m=\u001b[0m\u001b[0mdate\u001b[0m\u001b[0;34m(\u001b[0m\u001b[0;36m2025\u001b[0m\u001b[0;34m,\u001b[0m \u001b[0;36m1\u001b[0m\u001b[0;34m,\u001b[0m \u001b[0;36m1\u001b[0m\u001b[0;34m)\u001b[0m\u001b[0;34m)\u001b[0m\u001b[0;34m\u001b[0m\u001b[0;34m\u001b[0m\u001b[0m\n",
            "\u001b[0;32m/usr/local/lib/python3.10/dist-packages/pydantic/main.py\u001b[0m in \u001b[0;36m__init__\u001b[0;34m(self, **data)\u001b[0m\n\u001b[1;32m    210\u001b[0m         \u001b[0;31m# `__tracebackhide__` tells pytest and some other tools to omit this function from tracebacks\u001b[0m\u001b[0;34m\u001b[0m\u001b[0;34m\u001b[0m\u001b[0m\n\u001b[1;32m    211\u001b[0m         \u001b[0m__tracebackhide__\u001b[0m \u001b[0;34m=\u001b[0m \u001b[0;32mTrue\u001b[0m\u001b[0;34m\u001b[0m\u001b[0;34m\u001b[0m\u001b[0m\n\u001b[0;32m--> 212\u001b[0;31m         \u001b[0mvalidated_self\u001b[0m \u001b[0;34m=\u001b[0m \u001b[0mself\u001b[0m\u001b[0;34m.\u001b[0m\u001b[0m__pydantic_validator__\u001b[0m\u001b[0;34m.\u001b[0m\u001b[0mvalidate_python\u001b[0m\u001b[0;34m(\u001b[0m\u001b[0mdata\u001b[0m\u001b[0;34m,\u001b[0m \u001b[0mself_instance\u001b[0m\u001b[0;34m=\u001b[0m\u001b[0mself\u001b[0m\u001b[0;34m)\u001b[0m\u001b[0;34m\u001b[0m\u001b[0;34m\u001b[0m\u001b[0m\n\u001b[0m\u001b[1;32m    213\u001b[0m         \u001b[0;32mif\u001b[0m \u001b[0mself\u001b[0m \u001b[0;32mis\u001b[0m \u001b[0;32mnot\u001b[0m \u001b[0mvalidated_self\u001b[0m\u001b[0;34m:\u001b[0m\u001b[0;34m\u001b[0m\u001b[0;34m\u001b[0m\u001b[0m\n\u001b[1;32m    214\u001b[0m             warnings.warn(\n",
            "\u001b[0;31mValidationError\u001b[0m: 1 validation error for Client2\ndni\n  Value error, dni '-39755010' no es válido. Debe ser mayor a 0. [type=value_error, input_value=-39755010, input_type=int]\n    For further information visit https://errors.pydantic.dev/2.9/v/value_error"
          ]
        }
      ]
    },
    {
      "cell_type": "markdown",
      "source": [
        "# Pandera\n",
        "Hacer lo que se pidio en la ultima celda anterior, pero con Pandera."
      ],
      "metadata": {
        "id": "79P3MNuZ8-t3"
      }
    },
    {
      "cell_type": "code",
      "source": [
        "!pip install pandera"
      ],
      "metadata": {
        "id": "WUJE2idR_NQ3",
        "collapsed": true
      },
      "execution_count": null,
      "outputs": []
    },
    {
      "cell_type": "code",
      "source": [
        "from datetime import date\n",
        "import pandera as pa\n",
        "import pandas as pd\n",
        "\n",
        "class Client3:\n",
        "    def __init__(self, dni: int, nacionalidad: str, fecha_registro: date):\n",
        "        self.dni = dni\n",
        "        self.nacionalidad = nacionalidad\n",
        "        self.fecha_registro = fecha_registro\n",
        "\n",
        "        self.validate_client()\n",
        "\n",
        "    def __repr__(self):\n",
        "        return (f\"Client3(DNI={self.dni}, Nacionalidad='{self.nacionalidad}', \"\n",
        "                f\"Fecha de Registro={self.fecha_registro})\")\n",
        "\n",
        "    # Esquema de validación con pandera\n",
        "    client_schema = pa.DataFrameSchema({\n",
        "        \"dni\": pa.Column(int, checks=pa.Check.ge(0)),  # DNI positivo\n",
        "        \"nacionalidad\": pa.Column(\n",
        "            str, checks=pa.Check.isin([\"Argentina\", \"Chile\", \"Brasil\", \"Uruguay\", \"Paraguay\"])\n",
        "        ),\n",
        "        \"fecha_registro\": pa.Column(\n",
        "            pd.Timestamp, checks=pa.Check.le(pd.Timestamp(date.today()))  # Fecha no futura\n",
        "        )\n",
        "    })\n",
        "\n",
        "    def validate_client(self):\n",
        "        df_client = pd.DataFrame([{\n",
        "            \"dni\": self.dni,\n",
        "            \"nacionalidad\": self.nacionalidad,\n",
        "            \"fecha_registro\": pd.Timestamp(self.fecha_registro)\n",
        "        }])\n",
        "\n",
        "        self.client_schema.validate(df_client)\n"
      ],
      "metadata": {
        "id": "z3DJDdci8-BP"
      },
      "execution_count": null,
      "outputs": []
    },
    {
      "cell_type": "code",
      "source": [
        "#INVALIDO\n",
        "try:\n",
        "  cliente9 = Client3(39755010, \"Peru\", date(2023, 11, 14))\n",
        "  print(cliente3)\n",
        "except:\n",
        "  print(\"error\")"
      ],
      "metadata": {
        "colab": {
          "base_uri": "https://localhost:8080/"
        },
        "id": "7nM2p_5yuSUS",
        "outputId": "b1a1484d-f5e2-43b4-eca2-c45349fbb1d5",
        "collapsed": true
      },
      "execution_count": null,
      "outputs": [
        {
          "output_type": "stream",
          "name": "stdout",
          "text": [
            "error\n"
          ]
        }
      ]
    },
    {
      "cell_type": "code",
      "source": [
        "#VALIDO\n",
        "cliente10 = Client3(39755020, \"Argentina\", date(2023, 11, 14))\n",
        "print(cliente10)\n"
      ],
      "metadata": {
        "colab": {
          "base_uri": "https://localhost:8080/"
        },
        "id": "8lKNQyFgOV3g",
        "outputId": "a0701b43-8a1d-4925-dca2-45798bb0b686"
      },
      "execution_count": null,
      "outputs": [
        {
          "output_type": "stream",
          "name": "stdout",
          "text": [
            "Client3(DNI=39755020, Nacionalidad='Argentina', Fecha de Registro=2023-11-14)\n"
          ]
        }
      ]
    }
  ]
}